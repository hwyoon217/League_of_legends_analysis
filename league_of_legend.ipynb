{
  "cells": [
    {
      "cell_type": "code",
      "execution_count": null,
      "metadata": {
        "id": "eA2Uujnbn4uR"
      },
      "outputs": [],
      "source": [
        "# from google.colab import drive\n",
        "# drive.mount('/content/drive')"
      ]
    },
    {
      "cell_type": "code",
      "execution_count": null,
      "metadata": {
        "colab": {
          "base_uri": "https://localhost:8080/"
        },
        "id": "xesJjpMI_37m",
        "outputId": "e67cd226-1ac1-4f08-8d59-9a58fb0508a6"
      },
      "outputs": [
        {
          "name": "stdout",
          "output_type": "stream",
          "text": [
            "Looking in indexes: https://pypi.org/simple, https://us-python.pkg.dev/colab-wheels/public/simple/\n",
            "Requirement already satisfied: pdpbox in /usr/local/lib/python3.7/dist-packages (0.2.1)\n",
            "Requirement already satisfied: scipy in /usr/local/lib/python3.7/dist-packages (from pdpbox) (1.7.3)\n",
            "Requirement already satisfied: psutil in /usr/local/lib/python3.7/dist-packages (from pdpbox) (5.4.8)\n",
            "Requirement already satisfied: sklearn in /usr/local/lib/python3.7/dist-packages (from pdpbox) (0.0)\n",
            "Requirement already satisfied: pandas in /usr/local/lib/python3.7/dist-packages (from pdpbox) (1.3.5)\n",
            "Requirement already satisfied: numpy in /usr/local/lib/python3.7/dist-packages (from pdpbox) (1.21.6)\n",
            "Requirement already satisfied: joblib in /usr/local/lib/python3.7/dist-packages (from pdpbox) (1.1.0)\n",
            "Requirement already satisfied: matplotlib==3.1.1 in /usr/local/lib/python3.7/dist-packages (from pdpbox) (3.1.1)\n",
            "Requirement already satisfied: pyparsing!=2.0.4,!=2.1.2,!=2.1.6,>=2.0.1 in /usr/local/lib/python3.7/dist-packages (from matplotlib==3.1.1->pdpbox) (3.0.9)\n",
            "Requirement already satisfied: python-dateutil>=2.1 in /usr/local/lib/python3.7/dist-packages (from matplotlib==3.1.1->pdpbox) (2.8.2)\n",
            "Requirement already satisfied: kiwisolver>=1.0.1 in /usr/local/lib/python3.7/dist-packages (from matplotlib==3.1.1->pdpbox) (1.4.4)\n",
            "Requirement already satisfied: cycler>=0.10 in /usr/local/lib/python3.7/dist-packages (from matplotlib==3.1.1->pdpbox) (0.11.0)\n",
            "Requirement already satisfied: typing-extensions in /usr/local/lib/python3.7/dist-packages (from kiwisolver>=1.0.1->matplotlib==3.1.1->pdpbox) (4.1.1)\n",
            "Requirement already satisfied: six>=1.5 in /usr/local/lib/python3.7/dist-packages (from python-dateutil>=2.1->matplotlib==3.1.1->pdpbox) (1.15.0)\n",
            "Requirement already satisfied: pytz>=2017.3 in /usr/local/lib/python3.7/dist-packages (from pandas->pdpbox) (2022.2.1)\n",
            "Requirement already satisfied: scikit-learn in /usr/local/lib/python3.7/dist-packages (from sklearn->pdpbox) (1.0.2)\n",
            "Requirement already satisfied: threadpoolctl>=2.0.0 in /usr/local/lib/python3.7/dist-packages (from scikit-learn->sklearn->pdpbox) (3.1.0)\n"
          ]
        }
      ],
      "source": [
        "!pip install pdpbox"
      ]
    },
    {
      "cell_type": "code",
      "execution_count": null,
      "metadata": {
        "colab": {
          "base_uri": "https://localhost:8080/"
        },
        "id": "5D3NiDPGh9mi",
        "outputId": "e3447615-b335-40c4-f002-79079c8cb7e6"
      },
      "outputs": [
        {
          "name": "stdout",
          "output_type": "stream",
          "text": [
            "Looking in indexes: https://pypi.org/simple, https://us-python.pkg.dev/colab-wheels/public/simple/\n",
            "Requirement already satisfied: eli5 in /usr/local/lib/python3.7/dist-packages (0.13.0)\n",
            "Requirement already satisfied: scikit-learn>=0.20 in /usr/local/lib/python3.7/dist-packages (from eli5) (1.0.2)\n",
            "Requirement already satisfied: graphviz in /usr/local/lib/python3.7/dist-packages (from eli5) (0.10.1)\n",
            "Requirement already satisfied: attrs>17.1.0 in /usr/local/lib/python3.7/dist-packages (from eli5) (22.1.0)\n",
            "Requirement already satisfied: numpy>=1.9.0 in /usr/local/lib/python3.7/dist-packages (from eli5) (1.21.6)\n",
            "Requirement already satisfied: scipy in /usr/local/lib/python3.7/dist-packages (from eli5) (1.7.3)\n",
            "Requirement already satisfied: six in /usr/local/lib/python3.7/dist-packages (from eli5) (1.15.0)\n",
            "Requirement already satisfied: jinja2>=3.0.0 in /usr/local/lib/python3.7/dist-packages (from eli5) (3.1.2)\n",
            "Requirement already satisfied: tabulate>=0.7.7 in /usr/local/lib/python3.7/dist-packages (from eli5) (0.8.10)\n",
            "Requirement already satisfied: MarkupSafe>=2.0 in /usr/local/lib/python3.7/dist-packages (from jinja2>=3.0.0->eli5) (2.0.1)\n",
            "Requirement already satisfied: threadpoolctl>=2.0.0 in /usr/local/lib/python3.7/dist-packages (from scikit-learn>=0.20->eli5) (3.1.0)\n",
            "Requirement already satisfied: joblib>=0.11 in /usr/local/lib/python3.7/dist-packages (from scikit-learn>=0.20->eli5) (1.1.0)\n"
          ]
        }
      ],
      "source": [
        "!pip3 install eli5"
      ]
    },
    {
      "cell_type": "code",
      "execution_count": null,
      "metadata": {
        "id": "bMKpQ1OYoUag"
      },
      "outputs": [],
      "source": [
        "import pandas as pd\n",
        "import matplotlib.pyplot as plt"
      ]
    },
    {
      "cell_type": "code",
      "execution_count": null,
      "metadata": {
        "colab": {
          "base_uri": "https://localhost:8080/"
        },
        "id": "709G2nDJoXCo",
        "outputId": "983c7535-8a0a-421b-c738-05cc4460f74b"
      },
      "outputs": [
        {
          "data": {
            "text/plain": [
              "((26904, 50), (65896, 50), (107125, 50))"
            ]
          },
          "execution_count": 122,
          "metadata": {},
          "output_type": "execute_result"
        }
      ],
      "source": [
        "df1 = pd.read_csv('/content/drive/MyDrive/Rank/Challenger_Ranked_Games.csv')\n",
        "df2 = pd.read_csv('/content/drive/MyDrive/Rank/GrandMaster_Ranked_Games.csv')\n",
        "df3 = pd.read_csv('/content/drive/MyDrive/Rank/Master_Ranked_Games.csv')\n",
        "\n",
        "df1.shape, df2.shape, df3.shape"
      ]
    },
    {
      "cell_type": "code",
      "execution_count": null,
      "metadata": {
        "colab": {
          "base_uri": "https://localhost:8080/"
        },
        "id": "xyw3yzsot9j5",
        "outputId": "dd26dfa2-d476-449f-aee8-3e50238b294e"
      },
      "outputs": [
        {
          "data": {
            "text/plain": [
              "(199925, 50)"
            ]
          },
          "execution_count": 123,
          "metadata": {},
          "output_type": "execute_result"
        }
      ],
      "source": [
        "# 챌, 그마, 마스터 데이터 합치기\n",
        "df = pd.concat([df1,df2,df3])\n",
        "df.shape"
      ]
    },
    {
      "cell_type": "code",
      "execution_count": null,
      "metadata": {
        "colab": {
          "base_uri": "https://localhost:8080/",
          "height": 456
        },
        "id": "JXJfseH9tdzY",
        "outputId": "4bb10e8e-d21b-41d9-bbcc-2301d126a960"
      },
      "outputs": [
        {
          "data": {
            "text/html": [
              "\n",
              "  <div id=\"df-acf884fb-0589-4b93-80c6-a5e24e0633a7\">\n",
              "    <div class=\"colab-df-container\">\n",
              "      <div>\n",
              "<style scoped>\n",
              "    .dataframe tbody tr th:only-of-type {\n",
              "        vertical-align: middle;\n",
              "    }\n",
              "\n",
              "    .dataframe tbody tr th {\n",
              "        vertical-align: top;\n",
              "    }\n",
              "\n",
              "    .dataframe thead th {\n",
              "        text-align: right;\n",
              "    }\n",
              "</style>\n",
              "<table border=\"1\" class=\"dataframe\">\n",
              "  <thead>\n",
              "    <tr style=\"text-align: right;\">\n",
              "      <th></th>\n",
              "      <th>gameId</th>\n",
              "      <th>gameDuraton</th>\n",
              "      <th>blueWins</th>\n",
              "      <th>blueFirstBlood</th>\n",
              "      <th>blueFirstTower</th>\n",
              "      <th>blueFirstBaron</th>\n",
              "      <th>blueFirstDragon</th>\n",
              "      <th>blueFirstInhibitor</th>\n",
              "      <th>blueDragonKills</th>\n",
              "      <th>blueBaronKills</th>\n",
              "      <th>...</th>\n",
              "      <th>redAssist</th>\n",
              "      <th>redChampionDamageDealt</th>\n",
              "      <th>redTotalGold</th>\n",
              "      <th>redTotalMinionKills</th>\n",
              "      <th>redTotalLevel</th>\n",
              "      <th>redAvgLevel</th>\n",
              "      <th>redJungleMinionKills</th>\n",
              "      <th>redKillingSpree</th>\n",
              "      <th>redTotalHeal</th>\n",
              "      <th>redObjectDamageDealt</th>\n",
              "    </tr>\n",
              "  </thead>\n",
              "  <tbody>\n",
              "    <tr>\n",
              "      <th>0</th>\n",
              "      <td>4247263043</td>\n",
              "      <td>1323</td>\n",
              "      <td>0</td>\n",
              "      <td>1</td>\n",
              "      <td>0</td>\n",
              "      <td>0</td>\n",
              "      <td>0</td>\n",
              "      <td>0</td>\n",
              "      <td>0</td>\n",
              "      <td>0</td>\n",
              "      <td>...</td>\n",
              "      <td>68</td>\n",
              "      <td>73016</td>\n",
              "      <td>49832</td>\n",
              "      <td>533</td>\n",
              "      <td>64</td>\n",
              "      <td>12.8</td>\n",
              "      <td>138</td>\n",
              "      <td>8</td>\n",
              "      <td>38711</td>\n",
              "      <td>60463</td>\n",
              "    </tr>\n",
              "    <tr>\n",
              "      <th>1</th>\n",
              "      <td>4247155821</td>\n",
              "      <td>1317</td>\n",
              "      <td>1</td>\n",
              "      <td>0</td>\n",
              "      <td>0</td>\n",
              "      <td>0</td>\n",
              "      <td>1</td>\n",
              "      <td>0</td>\n",
              "      <td>2</td>\n",
              "      <td>0</td>\n",
              "      <td>...</td>\n",
              "      <td>8</td>\n",
              "      <td>44218</td>\n",
              "      <td>37136</td>\n",
              "      <td>571</td>\n",
              "      <td>59</td>\n",
              "      <td>11.8</td>\n",
              "      <td>134</td>\n",
              "      <td>3</td>\n",
              "      <td>24829</td>\n",
              "      <td>14105</td>\n",
              "    </tr>\n",
              "    <tr>\n",
              "      <th>2</th>\n",
              "      <td>4243963257</td>\n",
              "      <td>932</td>\n",
              "      <td>0</td>\n",
              "      <td>0</td>\n",
              "      <td>0</td>\n",
              "      <td>0</td>\n",
              "      <td>0</td>\n",
              "      <td>0</td>\n",
              "      <td>0</td>\n",
              "      <td>0</td>\n",
              "      <td>...</td>\n",
              "      <td>20</td>\n",
              "      <td>30797</td>\n",
              "      <td>35364</td>\n",
              "      <td>400</td>\n",
              "      <td>50</td>\n",
              "      <td>10.0</td>\n",
              "      <td>89</td>\n",
              "      <td>5</td>\n",
              "      <td>12589</td>\n",
              "      <td>45201</td>\n",
              "    </tr>\n",
              "    <tr>\n",
              "      <th>3</th>\n",
              "      <td>4241678498</td>\n",
              "      <td>2098</td>\n",
              "      <td>0</td>\n",
              "      <td>0</td>\n",
              "      <td>0</td>\n",
              "      <td>1</td>\n",
              "      <td>1</td>\n",
              "      <td>0</td>\n",
              "      <td>1</td>\n",
              "      <td>1</td>\n",
              "      <td>...</td>\n",
              "      <td>72</td>\n",
              "      <td>125866</td>\n",
              "      <td>70528</td>\n",
              "      <td>832</td>\n",
              "      <td>84</td>\n",
              "      <td>16.8</td>\n",
              "      <td>205</td>\n",
              "      <td>9</td>\n",
              "      <td>65312</td>\n",
              "      <td>88202</td>\n",
              "    </tr>\n",
              "    <tr>\n",
              "      <th>4</th>\n",
              "      <td>4241538868</td>\n",
              "      <td>2344</td>\n",
              "      <td>1</td>\n",
              "      <td>1</td>\n",
              "      <td>1</td>\n",
              "      <td>1</td>\n",
              "      <td>1</td>\n",
              "      <td>1</td>\n",
              "      <td>2</td>\n",
              "      <td>2</td>\n",
              "      <td>...</td>\n",
              "      <td>83</td>\n",
              "      <td>131536</td>\n",
              "      <td>74596</td>\n",
              "      <td>794</td>\n",
              "      <td>85</td>\n",
              "      <td>17.0</td>\n",
              "      <td>227</td>\n",
              "      <td>7</td>\n",
              "      <td>86431</td>\n",
              "      <td>64141</td>\n",
              "    </tr>\n",
              "    <tr>\n",
              "      <th>5</th>\n",
              "      <td>4241394461</td>\n",
              "      <td>1567</td>\n",
              "      <td>1</td>\n",
              "      <td>1</td>\n",
              "      <td>1</td>\n",
              "      <td>0</td>\n",
              "      <td>0</td>\n",
              "      <td>1</td>\n",
              "      <td>2</td>\n",
              "      <td>0</td>\n",
              "      <td>...</td>\n",
              "      <td>34</td>\n",
              "      <td>64242</td>\n",
              "      <td>44280</td>\n",
              "      <td>555</td>\n",
              "      <td>61</td>\n",
              "      <td>12.2</td>\n",
              "      <td>140</td>\n",
              "      <td>3</td>\n",
              "      <td>23741</td>\n",
              "      <td>20132</td>\n",
              "    </tr>\n",
              "    <tr>\n",
              "      <th>6</th>\n",
              "      <td>4233222221</td>\n",
              "      <td>1686</td>\n",
              "      <td>0</td>\n",
              "      <td>0</td>\n",
              "      <td>1</td>\n",
              "      <td>0</td>\n",
              "      <td>0</td>\n",
              "      <td>0</td>\n",
              "      <td>0</td>\n",
              "      <td>0</td>\n",
              "      <td>...</td>\n",
              "      <td>59</td>\n",
              "      <td>78424</td>\n",
              "      <td>58032</td>\n",
              "      <td>640</td>\n",
              "      <td>73</td>\n",
              "      <td>14.6</td>\n",
              "      <td>214</td>\n",
              "      <td>5</td>\n",
              "      <td>31415</td>\n",
              "      <td>61040</td>\n",
              "    </tr>\n",
              "    <tr>\n",
              "      <th>7</th>\n",
              "      <td>4233113995</td>\n",
              "      <td>1588</td>\n",
              "      <td>1</td>\n",
              "      <td>1</td>\n",
              "      <td>1</td>\n",
              "      <td>1</td>\n",
              "      <td>0</td>\n",
              "      <td>1</td>\n",
              "      <td>2</td>\n",
              "      <td>1</td>\n",
              "      <td>...</td>\n",
              "      <td>30</td>\n",
              "      <td>62134</td>\n",
              "      <td>47408</td>\n",
              "      <td>608</td>\n",
              "      <td>63</td>\n",
              "      <td>12.6</td>\n",
              "      <td>133</td>\n",
              "      <td>5</td>\n",
              "      <td>27846</td>\n",
              "      <td>32107</td>\n",
              "    </tr>\n",
              "    <tr>\n",
              "      <th>8</th>\n",
              "      <td>4231100932</td>\n",
              "      <td>1618</td>\n",
              "      <td>1</td>\n",
              "      <td>1</td>\n",
              "      <td>1</td>\n",
              "      <td>1</td>\n",
              "      <td>0</td>\n",
              "      <td>1</td>\n",
              "      <td>3</td>\n",
              "      <td>1</td>\n",
              "      <td>...</td>\n",
              "      <td>34</td>\n",
              "      <td>69840</td>\n",
              "      <td>49906</td>\n",
              "      <td>646</td>\n",
              "      <td>69</td>\n",
              "      <td>13.8</td>\n",
              "      <td>159</td>\n",
              "      <td>6</td>\n",
              "      <td>32026</td>\n",
              "      <td>41601</td>\n",
              "    </tr>\n",
              "    <tr>\n",
              "      <th>9</th>\n",
              "      <td>4229230455</td>\n",
              "      <td>1126</td>\n",
              "      <td>1</td>\n",
              "      <td>0</td>\n",
              "      <td>1</td>\n",
              "      <td>0</td>\n",
              "      <td>1</td>\n",
              "      <td>0</td>\n",
              "      <td>1</td>\n",
              "      <td>0</td>\n",
              "      <td>...</td>\n",
              "      <td>13</td>\n",
              "      <td>32999</td>\n",
              "      <td>32064</td>\n",
              "      <td>461</td>\n",
              "      <td>53</td>\n",
              "      <td>10.6</td>\n",
              "      <td>92</td>\n",
              "      <td>3</td>\n",
              "      <td>23511</td>\n",
              "      <td>10775</td>\n",
              "    </tr>\n",
              "  </tbody>\n",
              "</table>\n",
              "<p>10 rows × 50 columns</p>\n",
              "</div>\n",
              "      <button class=\"colab-df-convert\" onclick=\"convertToInteractive('df-acf884fb-0589-4b93-80c6-a5e24e0633a7')\"\n",
              "              title=\"Convert this dataframe to an interactive table.\"\n",
              "              style=\"display:none;\">\n",
              "        \n",
              "  <svg xmlns=\"http://www.w3.org/2000/svg\" height=\"24px\"viewBox=\"0 0 24 24\"\n",
              "       width=\"24px\">\n",
              "    <path d=\"M0 0h24v24H0V0z\" fill=\"none\"/>\n",
              "    <path d=\"M18.56 5.44l.94 2.06.94-2.06 2.06-.94-2.06-.94-.94-2.06-.94 2.06-2.06.94zm-11 1L8.5 8.5l.94-2.06 2.06-.94-2.06-.94L8.5 2.5l-.94 2.06-2.06.94zm10 10l.94 2.06.94-2.06 2.06-.94-2.06-.94-.94-2.06-.94 2.06-2.06.94z\"/><path d=\"M17.41 7.96l-1.37-1.37c-.4-.4-.92-.59-1.43-.59-.52 0-1.04.2-1.43.59L10.3 9.45l-7.72 7.72c-.78.78-.78 2.05 0 2.83L4 21.41c.39.39.9.59 1.41.59.51 0 1.02-.2 1.41-.59l7.78-7.78 2.81-2.81c.8-.78.8-2.07 0-2.86zM5.41 20L4 18.59l7.72-7.72 1.47 1.35L5.41 20z\"/>\n",
              "  </svg>\n",
              "      </button>\n",
              "      \n",
              "  <style>\n",
              "    .colab-df-container {\n",
              "      display:flex;\n",
              "      flex-wrap:wrap;\n",
              "      gap: 12px;\n",
              "    }\n",
              "\n",
              "    .colab-df-convert {\n",
              "      background-color: #E8F0FE;\n",
              "      border: none;\n",
              "      border-radius: 50%;\n",
              "      cursor: pointer;\n",
              "      display: none;\n",
              "      fill: #1967D2;\n",
              "      height: 32px;\n",
              "      padding: 0 0 0 0;\n",
              "      width: 32px;\n",
              "    }\n",
              "\n",
              "    .colab-df-convert:hover {\n",
              "      background-color: #E2EBFA;\n",
              "      box-shadow: 0px 1px 2px rgba(60, 64, 67, 0.3), 0px 1px 3px 1px rgba(60, 64, 67, 0.15);\n",
              "      fill: #174EA6;\n",
              "    }\n",
              "\n",
              "    [theme=dark] .colab-df-convert {\n",
              "      background-color: #3B4455;\n",
              "      fill: #D2E3FC;\n",
              "    }\n",
              "\n",
              "    [theme=dark] .colab-df-convert:hover {\n",
              "      background-color: #434B5C;\n",
              "      box-shadow: 0px 1px 3px 1px rgba(0, 0, 0, 0.15);\n",
              "      filter: drop-shadow(0px 1px 2px rgba(0, 0, 0, 0.3));\n",
              "      fill: #FFFFFF;\n",
              "    }\n",
              "  </style>\n",
              "\n",
              "      <script>\n",
              "        const buttonEl =\n",
              "          document.querySelector('#df-acf884fb-0589-4b93-80c6-a5e24e0633a7 button.colab-df-convert');\n",
              "        buttonEl.style.display =\n",
              "          google.colab.kernel.accessAllowed ? 'block' : 'none';\n",
              "\n",
              "        async function convertToInteractive(key) {\n",
              "          const element = document.querySelector('#df-acf884fb-0589-4b93-80c6-a5e24e0633a7');\n",
              "          const dataTable =\n",
              "            await google.colab.kernel.invokeFunction('convertToInteractive',\n",
              "                                                     [key], {});\n",
              "          if (!dataTable) return;\n",
              "\n",
              "          const docLinkHtml = 'Like what you see? Visit the ' +\n",
              "            '<a target=\"_blank\" href=https://colab.research.google.com/notebooks/data_table.ipynb>data table notebook</a>'\n",
              "            + ' to learn more about interactive tables.';\n",
              "          element.innerHTML = '';\n",
              "          dataTable['output_type'] = 'display_data';\n",
              "          await google.colab.output.renderOutput(dataTable, element);\n",
              "          const docLink = document.createElement('div');\n",
              "          docLink.innerHTML = docLinkHtml;\n",
              "          element.appendChild(docLink);\n",
              "        }\n",
              "      </script>\n",
              "    </div>\n",
              "  </div>\n",
              "  "
            ],
            "text/plain": [
              "       gameId  gameDuraton  blueWins  blueFirstBlood  blueFirstTower  \\\n",
              "0  4247263043         1323         0               1               0   \n",
              "1  4247155821         1317         1               0               0   \n",
              "2  4243963257          932         0               0               0   \n",
              "3  4241678498         2098         0               0               0   \n",
              "4  4241538868         2344         1               1               1   \n",
              "5  4241394461         1567         1               1               1   \n",
              "6  4233222221         1686         0               0               1   \n",
              "7  4233113995         1588         1               1               1   \n",
              "8  4231100932         1618         1               1               1   \n",
              "9  4229230455         1126         1               0               1   \n",
              "\n",
              "   blueFirstBaron  blueFirstDragon  blueFirstInhibitor  blueDragonKills  \\\n",
              "0               0                0                   0                0   \n",
              "1               0                1                   0                2   \n",
              "2               0                0                   0                0   \n",
              "3               1                1                   0                1   \n",
              "4               1                1                   1                2   \n",
              "5               0                0                   1                2   \n",
              "6               0                0                   0                0   \n",
              "7               1                0                   1                2   \n",
              "8               1                0                   1                3   \n",
              "9               0                1                   0                1   \n",
              "\n",
              "   blueBaronKills  ...  redAssist  redChampionDamageDealt  redTotalGold  \\\n",
              "0               0  ...         68                   73016         49832   \n",
              "1               0  ...          8                   44218         37136   \n",
              "2               0  ...         20                   30797         35364   \n",
              "3               1  ...         72                  125866         70528   \n",
              "4               2  ...         83                  131536         74596   \n",
              "5               0  ...         34                   64242         44280   \n",
              "6               0  ...         59                   78424         58032   \n",
              "7               1  ...         30                   62134         47408   \n",
              "8               1  ...         34                   69840         49906   \n",
              "9               0  ...         13                   32999         32064   \n",
              "\n",
              "   redTotalMinionKills  redTotalLevel  redAvgLevel  redJungleMinionKills  \\\n",
              "0                  533             64         12.8                   138   \n",
              "1                  571             59         11.8                   134   \n",
              "2                  400             50         10.0                    89   \n",
              "3                  832             84         16.8                   205   \n",
              "4                  794             85         17.0                   227   \n",
              "5                  555             61         12.2                   140   \n",
              "6                  640             73         14.6                   214   \n",
              "7                  608             63         12.6                   133   \n",
              "8                  646             69         13.8                   159   \n",
              "9                  461             53         10.6                    92   \n",
              "\n",
              "   redKillingSpree  redTotalHeal  redObjectDamageDealt  \n",
              "0                8         38711                 60463  \n",
              "1                3         24829                 14105  \n",
              "2                5         12589                 45201  \n",
              "3                9         65312                 88202  \n",
              "4                7         86431                 64141  \n",
              "5                3         23741                 20132  \n",
              "6                5         31415                 61040  \n",
              "7                5         27846                 32107  \n",
              "8                6         32026                 41601  \n",
              "9                3         23511                 10775  \n",
              "\n",
              "[10 rows x 50 columns]"
            ]
          },
          "execution_count": 124,
          "metadata": {},
          "output_type": "execute_result"
        }
      ],
      "source": [
        "df.head(10)"
      ]
    },
    {
      "cell_type": "code",
      "execution_count": null,
      "metadata": {
        "colab": {
          "base_uri": "https://localhost:8080/"
        },
        "id": "UTVEmV82TdWT",
        "outputId": "d44cc9fd-2bee-4208-d9ad-759f32f28f5e"
      },
      "outputs": [
        {
          "data": {
            "text/plain": [
              "54185"
            ]
          },
          "execution_count": 125,
          "metadata": {},
          "output_type": "execute_result"
        }
      ],
      "source": [
        "df.duplicated().sum()"
      ]
    },
    {
      "cell_type": "code",
      "execution_count": null,
      "metadata": {
        "colab": {
          "base_uri": "https://localhost:8080/"
        },
        "id": "ijJ_kZ3ahhrg",
        "outputId": "9ada2f5b-d45e-4871-a334-86391db70af1"
      },
      "outputs": [
        {
          "data": {
            "text/plain": [
              "(145740, 50)"
            ]
          },
          "execution_count": 126,
          "metadata": {},
          "output_type": "execute_result"
        }
      ],
      "source": [
        "df = df.drop_duplicates()\n",
        "df.shape"
      ]
    },
    {
      "cell_type": "code",
      "execution_count": null,
      "metadata": {
        "colab": {
          "base_uri": "https://localhost:8080/"
        },
        "id": "z6WsbxThBPG8",
        "outputId": "0c285a4c-69f5-450a-ff3a-e42b2860e635"
      },
      "outputs": [
        {
          "data": {
            "text/plain": [
              "Index(['gameId', 'gameDuraton', 'blueWins', 'blueFirstBlood', 'blueFirstTower',\n",
              "       'blueFirstBaron', 'blueFirstDragon', 'blueFirstInhibitor',\n",
              "       'blueDragonKills', 'blueBaronKills', 'blueTowerKills',\n",
              "       'blueInhibitorKills', 'blueWardPlaced', 'blueWardkills', 'blueKills',\n",
              "       'blueDeath', 'blueAssist', 'blueChampionDamageDealt', 'blueTotalGold',\n",
              "       'blueTotalMinionKills', 'blueTotalLevel', 'blueAvgLevel',\n",
              "       'blueJungleMinionKills', 'blueKillingSpree', 'blueTotalHeal',\n",
              "       'blueObjectDamageDealt', 'redWins', 'redFirstBlood', 'redFirstTower',\n",
              "       'redFirstBaron', 'redFirstDragon', 'redFirstInhibitor',\n",
              "       'redDragonKills', 'redBaronKills', 'redTowerKills', 'redInhibitorKills',\n",
              "       'redWardPlaced', 'redWardkills', 'redKills', 'redDeath', 'redAssist',\n",
              "       'redChampionDamageDealt', 'redTotalGold', 'redTotalMinionKills',\n",
              "       'redTotalLevel', 'redAvgLevel', 'redJungleMinionKills',\n",
              "       'redKillingSpree', 'redTotalHeal', 'redObjectDamageDealt'],\n",
              "      dtype='object')"
            ]
          },
          "execution_count": 127,
          "metadata": {},
          "output_type": "execute_result"
        }
      ],
      "source": [
        "df.columns"
      ]
    },
    {
      "cell_type": "code",
      "execution_count": null,
      "metadata": {
        "id": "QFDAvp0iBVbp"
      },
      "outputs": [],
      "source": [
        "# 전처리\n",
        "\n",
        "def Blue(df):\n",
        "  df_blue = df.copy()\n",
        "  red_col = [col for col in df_blue.columns if 'red' in col]   # 블루팀 데이터만 추출\n",
        "  df_blue.drop(columns=red_col, inplace=True)\n",
        "  drop_col = ['gameId','blueAvgLevel']     # 필요없는 데이터 제거\n",
        "  df_blue.drop(columns=drop_col, inplace=True)\n",
        "  df_blue.columns = df_blue.columns.str.replace('blue','')\n",
        "  df_blue.rename(columns = {'gameDuraton':'gameDuration'}, inplace= True)\n",
        "  return df_blue"
      ]
    },
    {
      "cell_type": "code",
      "execution_count": null,
      "metadata": {
        "colab": {
          "base_uri": "https://localhost:8080/",
          "height": 274
        },
        "id": "WsScJGw7HIzK",
        "outputId": "14caf0a3-7bf8-4bab-bd5c-374e3f9f6625"
      },
      "outputs": [
        {
          "name": "stdout",
          "output_type": "stream",
          "text": [
            "(145740, 24) \n",
            "\n"
          ]
        },
        {
          "data": {
            "text/html": [
              "\n",
              "  <div id=\"df-241737d2-0934-488d-a202-12c4e3f2ab91\">\n",
              "    <div class=\"colab-df-container\">\n",
              "      <div>\n",
              "<style scoped>\n",
              "    .dataframe tbody tr th:only-of-type {\n",
              "        vertical-align: middle;\n",
              "    }\n",
              "\n",
              "    .dataframe tbody tr th {\n",
              "        vertical-align: top;\n",
              "    }\n",
              "\n",
              "    .dataframe thead th {\n",
              "        text-align: right;\n",
              "    }\n",
              "</style>\n",
              "<table border=\"1\" class=\"dataframe\">\n",
              "  <thead>\n",
              "    <tr style=\"text-align: right;\">\n",
              "      <th></th>\n",
              "      <th>gameDuration</th>\n",
              "      <th>Wins</th>\n",
              "      <th>FirstBlood</th>\n",
              "      <th>FirstTower</th>\n",
              "      <th>FirstBaron</th>\n",
              "      <th>FirstDragon</th>\n",
              "      <th>FirstInhibitor</th>\n",
              "      <th>DragonKills</th>\n",
              "      <th>BaronKills</th>\n",
              "      <th>TowerKills</th>\n",
              "      <th>...</th>\n",
              "      <th>Death</th>\n",
              "      <th>Assist</th>\n",
              "      <th>ChampionDamageDealt</th>\n",
              "      <th>TotalGold</th>\n",
              "      <th>TotalMinionKills</th>\n",
              "      <th>TotalLevel</th>\n",
              "      <th>JungleMinionKills</th>\n",
              "      <th>KillingSpree</th>\n",
              "      <th>TotalHeal</th>\n",
              "      <th>ObjectDamageDealt</th>\n",
              "    </tr>\n",
              "  </thead>\n",
              "  <tbody>\n",
              "    <tr>\n",
              "      <th>0</th>\n",
              "      <td>1323</td>\n",
              "      <td>0</td>\n",
              "      <td>1</td>\n",
              "      <td>0</td>\n",
              "      <td>0</td>\n",
              "      <td>0</td>\n",
              "      <td>0</td>\n",
              "      <td>0</td>\n",
              "      <td>0</td>\n",
              "      <td>0</td>\n",
              "      <td>...</td>\n",
              "      <td>31</td>\n",
              "      <td>22</td>\n",
              "      <td>56039</td>\n",
              "      <td>37001</td>\n",
              "      <td>440</td>\n",
              "      <td>56</td>\n",
              "      <td>105</td>\n",
              "      <td>4</td>\n",
              "      <td>31035</td>\n",
              "      <td>5675</td>\n",
              "    </tr>\n",
              "    <tr>\n",
              "      <th>1</th>\n",
              "      <td>1317</td>\n",
              "      <td>1</td>\n",
              "      <td>0</td>\n",
              "      <td>0</td>\n",
              "      <td>0</td>\n",
              "      <td>1</td>\n",
              "      <td>0</td>\n",
              "      <td>2</td>\n",
              "      <td>0</td>\n",
              "      <td>4</td>\n",
              "      <td>...</td>\n",
              "      <td>8</td>\n",
              "      <td>31</td>\n",
              "      <td>60243</td>\n",
              "      <td>41072</td>\n",
              "      <td>531</td>\n",
              "      <td>63</td>\n",
              "      <td>111</td>\n",
              "      <td>3</td>\n",
              "      <td>26397</td>\n",
              "      <td>45303</td>\n",
              "    </tr>\n",
              "    <tr>\n",
              "      <th>2</th>\n",
              "      <td>932</td>\n",
              "      <td>0</td>\n",
              "      <td>0</td>\n",
              "      <td>0</td>\n",
              "      <td>0</td>\n",
              "      <td>0</td>\n",
              "      <td>0</td>\n",
              "      <td>0</td>\n",
              "      <td>0</td>\n",
              "      <td>0</td>\n",
              "      <td>...</td>\n",
              "      <td>20</td>\n",
              "      <td>8</td>\n",
              "      <td>24014</td>\n",
              "      <td>22929</td>\n",
              "      <td>306</td>\n",
              "      <td>42</td>\n",
              "      <td>64</td>\n",
              "      <td>0</td>\n",
              "      <td>6567</td>\n",
              "      <td>5651</td>\n",
              "    </tr>\n",
              "  </tbody>\n",
              "</table>\n",
              "<p>3 rows × 24 columns</p>\n",
              "</div>\n",
              "      <button class=\"colab-df-convert\" onclick=\"convertToInteractive('df-241737d2-0934-488d-a202-12c4e3f2ab91')\"\n",
              "              title=\"Convert this dataframe to an interactive table.\"\n",
              "              style=\"display:none;\">\n",
              "        \n",
              "  <svg xmlns=\"http://www.w3.org/2000/svg\" height=\"24px\"viewBox=\"0 0 24 24\"\n",
              "       width=\"24px\">\n",
              "    <path d=\"M0 0h24v24H0V0z\" fill=\"none\"/>\n",
              "    <path d=\"M18.56 5.44l.94 2.06.94-2.06 2.06-.94-2.06-.94-.94-2.06-.94 2.06-2.06.94zm-11 1L8.5 8.5l.94-2.06 2.06-.94-2.06-.94L8.5 2.5l-.94 2.06-2.06.94zm10 10l.94 2.06.94-2.06 2.06-.94-2.06-.94-.94-2.06-.94 2.06-2.06.94z\"/><path d=\"M17.41 7.96l-1.37-1.37c-.4-.4-.92-.59-1.43-.59-.52 0-1.04.2-1.43.59L10.3 9.45l-7.72 7.72c-.78.78-.78 2.05 0 2.83L4 21.41c.39.39.9.59 1.41.59.51 0 1.02-.2 1.41-.59l7.78-7.78 2.81-2.81c.8-.78.8-2.07 0-2.86zM5.41 20L4 18.59l7.72-7.72 1.47 1.35L5.41 20z\"/>\n",
              "  </svg>\n",
              "      </button>\n",
              "      \n",
              "  <style>\n",
              "    .colab-df-container {\n",
              "      display:flex;\n",
              "      flex-wrap:wrap;\n",
              "      gap: 12px;\n",
              "    }\n",
              "\n",
              "    .colab-df-convert {\n",
              "      background-color: #E8F0FE;\n",
              "      border: none;\n",
              "      border-radius: 50%;\n",
              "      cursor: pointer;\n",
              "      display: none;\n",
              "      fill: #1967D2;\n",
              "      height: 32px;\n",
              "      padding: 0 0 0 0;\n",
              "      width: 32px;\n",
              "    }\n",
              "\n",
              "    .colab-df-convert:hover {\n",
              "      background-color: #E2EBFA;\n",
              "      box-shadow: 0px 1px 2px rgba(60, 64, 67, 0.3), 0px 1px 3px 1px rgba(60, 64, 67, 0.15);\n",
              "      fill: #174EA6;\n",
              "    }\n",
              "\n",
              "    [theme=dark] .colab-df-convert {\n",
              "      background-color: #3B4455;\n",
              "      fill: #D2E3FC;\n",
              "    }\n",
              "\n",
              "    [theme=dark] .colab-df-convert:hover {\n",
              "      background-color: #434B5C;\n",
              "      box-shadow: 0px 1px 3px 1px rgba(0, 0, 0, 0.15);\n",
              "      filter: drop-shadow(0px 1px 2px rgba(0, 0, 0, 0.3));\n",
              "      fill: #FFFFFF;\n",
              "    }\n",
              "  </style>\n",
              "\n",
              "      <script>\n",
              "        const buttonEl =\n",
              "          document.querySelector('#df-241737d2-0934-488d-a202-12c4e3f2ab91 button.colab-df-convert');\n",
              "        buttonEl.style.display =\n",
              "          google.colab.kernel.accessAllowed ? 'block' : 'none';\n",
              "\n",
              "        async function convertToInteractive(key) {\n",
              "          const element = document.querySelector('#df-241737d2-0934-488d-a202-12c4e3f2ab91');\n",
              "          const dataTable =\n",
              "            await google.colab.kernel.invokeFunction('convertToInteractive',\n",
              "                                                     [key], {});\n",
              "          if (!dataTable) return;\n",
              "\n",
              "          const docLinkHtml = 'Like what you see? Visit the ' +\n",
              "            '<a target=\"_blank\" href=https://colab.research.google.com/notebooks/data_table.ipynb>data table notebook</a>'\n",
              "            + ' to learn more about interactive tables.';\n",
              "          element.innerHTML = '';\n",
              "          dataTable['output_type'] = 'display_data';\n",
              "          await google.colab.output.renderOutput(dataTable, element);\n",
              "          const docLink = document.createElement('div');\n",
              "          docLink.innerHTML = docLinkHtml;\n",
              "          element.appendChild(docLink);\n",
              "        }\n",
              "      </script>\n",
              "    </div>\n",
              "  </div>\n",
              "  "
            ],
            "text/plain": [
              "   gameDuration  Wins  FirstBlood  FirstTower  FirstBaron  FirstDragon  \\\n",
              "0          1323     0           1           0           0            0   \n",
              "1          1317     1           0           0           0            1   \n",
              "2           932     0           0           0           0            0   \n",
              "\n",
              "   FirstInhibitor  DragonKills  BaronKills  TowerKills  ...  Death  Assist  \\\n",
              "0               0            0           0           0  ...     31      22   \n",
              "1               0            2           0           4  ...      8      31   \n",
              "2               0            0           0           0  ...     20       8   \n",
              "\n",
              "   ChampionDamageDealt  TotalGold  TotalMinionKills  TotalLevel  \\\n",
              "0                56039      37001               440          56   \n",
              "1                60243      41072               531          63   \n",
              "2                24014      22929               306          42   \n",
              "\n",
              "   JungleMinionKills  KillingSpree  TotalHeal  ObjectDamageDealt  \n",
              "0                105             4      31035               5675  \n",
              "1                111             3      26397              45303  \n",
              "2                 64             0       6567               5651  \n",
              "\n",
              "[3 rows x 24 columns]"
            ]
          },
          "execution_count": 129,
          "metadata": {},
          "output_type": "execute_result"
        }
      ],
      "source": [
        "df_blue = Blue(df)\n",
        "print(df_blue.shape,'\\n')\n",
        "df_blue.head(3)"
      ]
    },
    {
      "cell_type": "code",
      "execution_count": null,
      "metadata": {
        "colab": {
          "base_uri": "https://localhost:8080/"
        },
        "id": "ePG22JmSIXS1",
        "outputId": "ac1da0ac-d97b-4e18-b0bf-10ca3cce1c87"
      },
      "outputs": [
        {
          "data": {
            "text/plain": [
              "Index(['gameDuration', 'Wins', 'FirstBlood', 'FirstTower', 'FirstBaron',\n",
              "       'FirstDragon', 'FirstInhibitor', 'DragonKills', 'BaronKills',\n",
              "       'TowerKills', 'InhibitorKills', 'WardPlaced', 'Wardkills', 'Kills',\n",
              "       'Death', 'Assist', 'ChampionDamageDealt', 'TotalGold',\n",
              "       'TotalMinionKills', 'TotalLevel', 'JungleMinionKills', 'KillingSpree',\n",
              "       'TotalHeal', 'ObjectDamageDealt'],\n",
              "      dtype='object')"
            ]
          },
          "execution_count": 130,
          "metadata": {},
          "output_type": "execute_result"
        }
      ],
      "source": [
        "df_blue.columns"
      ]
    },
    {
      "cell_type": "code",
      "execution_count": null,
      "metadata": {
        "colab": {
          "base_uri": "https://localhost:8080/"
        },
        "id": "aynlgxiBIszD",
        "outputId": "c68bc41e-33ce-4160-b1b3-71920f1447ef"
      },
      "outputs": [
        {
          "data": {
            "text/plain": [
              "0    0.504\n",
              "1    0.496\n",
              "Name: Wins, dtype: float64"
            ]
          },
          "execution_count": 131,
          "metadata": {},
          "output_type": "execute_result"
        }
      ],
      "source": [
        "# 타겟 데이터의 비율 확인\n",
        "df_blue.Wins.value_counts(normalize=True).round(3)"
      ]
    },
    {
      "cell_type": "code",
      "execution_count": null,
      "metadata": {
        "colab": {
          "base_uri": "https://localhost:8080/"
        },
        "id": "gtL-MpxhIWXa",
        "outputId": "7992913a-c82e-4777-d105-fbe8d67a863d"
      },
      "outputs": [
        {
          "name": "stdout",
          "output_type": "stream",
          "text": [
            "<class 'pandas.core.frame.DataFrame'>\n",
            "Int64Index: 145740 entries, 0 to 107123\n",
            "Data columns (total 24 columns):\n",
            " #   Column               Non-Null Count   Dtype\n",
            "---  ------               --------------   -----\n",
            " 0   gameDuration         145740 non-null  int64\n",
            " 1   Wins                 145740 non-null  int64\n",
            " 2   FirstBlood           145740 non-null  int64\n",
            " 3   FirstTower           145740 non-null  int64\n",
            " 4   FirstBaron           145740 non-null  int64\n",
            " 5   FirstDragon          145740 non-null  int64\n",
            " 6   FirstInhibitor       145740 non-null  int64\n",
            " 7   DragonKills          145740 non-null  int64\n",
            " 8   BaronKills           145740 non-null  int64\n",
            " 9   TowerKills           145740 non-null  int64\n",
            " 10  InhibitorKills       145740 non-null  int64\n",
            " 11  WardPlaced           145740 non-null  int64\n",
            " 12  Wardkills            145740 non-null  int64\n",
            " 13  Kills                145740 non-null  int64\n",
            " 14  Death                145740 non-null  int64\n",
            " 15  Assist               145740 non-null  int64\n",
            " 16  ChampionDamageDealt  145740 non-null  int64\n",
            " 17  TotalGold            145740 non-null  int64\n",
            " 18  TotalMinionKills     145740 non-null  int64\n",
            " 19  TotalLevel           145740 non-null  int64\n",
            " 20  JungleMinionKills    145740 non-null  int64\n",
            " 21  KillingSpree         145740 non-null  int64\n",
            " 22  TotalHeal            145740 non-null  int64\n",
            " 23  ObjectDamageDealt    145740 non-null  int64\n",
            "dtypes: int64(24)\n",
            "memory usage: 27.8 MB\n"
          ]
        }
      ],
      "source": [
        "# Nan 확인\n",
        "df_blue.info()"
      ]
    },
    {
      "cell_type": "code",
      "execution_count": null,
      "metadata": {
        "colab": {
          "base_uri": "https://localhost:8080/",
          "height": 300
        },
        "id": "Qjnb-IdSIfuz",
        "outputId": "1a76fea6-5f83-41c4-f7ae-852e3bc2190b"
      },
      "outputs": [
        {
          "data": {
            "text/html": [
              "\n",
              "  <div id=\"df-0cf41816-d5d1-431d-a5d3-e8d50959fe1b\">\n",
              "    <div class=\"colab-df-container\">\n",
              "      <div>\n",
              "<style scoped>\n",
              "    .dataframe tbody tr th:only-of-type {\n",
              "        vertical-align: middle;\n",
              "    }\n",
              "\n",
              "    .dataframe tbody tr th {\n",
              "        vertical-align: top;\n",
              "    }\n",
              "\n",
              "    .dataframe thead th {\n",
              "        text-align: right;\n",
              "    }\n",
              "</style>\n",
              "<table border=\"1\" class=\"dataframe\">\n",
              "  <thead>\n",
              "    <tr style=\"text-align: right;\">\n",
              "      <th></th>\n",
              "      <th>gameDuration</th>\n",
              "      <th>Wins</th>\n",
              "      <th>FirstBlood</th>\n",
              "      <th>FirstTower</th>\n",
              "      <th>FirstBaron</th>\n",
              "      <th>FirstDragon</th>\n",
              "      <th>FirstInhibitor</th>\n",
              "      <th>DragonKills</th>\n",
              "      <th>BaronKills</th>\n",
              "      <th>TowerKills</th>\n",
              "      <th>InhibitorKills</th>\n",
              "    </tr>\n",
              "  </thead>\n",
              "  <tbody>\n",
              "    <tr>\n",
              "      <th>count</th>\n",
              "      <td>145740.000000</td>\n",
              "      <td>145740.000000</td>\n",
              "      <td>145740.000000</td>\n",
              "      <td>145740.000000</td>\n",
              "      <td>145740.000000</td>\n",
              "      <td>145740.000000</td>\n",
              "      <td>145740.000000</td>\n",
              "      <td>145740.000000</td>\n",
              "      <td>145740.000000</td>\n",
              "      <td>145740.000000</td>\n",
              "      <td>145740.000000</td>\n",
              "    </tr>\n",
              "    <tr>\n",
              "      <th>mean</th>\n",
              "      <td>1422.499609</td>\n",
              "      <td>0.496274</td>\n",
              "      <td>0.506862</td>\n",
              "      <td>0.512852</td>\n",
              "      <td>0.227014</td>\n",
              "      <td>0.394874</td>\n",
              "      <td>0.388102</td>\n",
              "      <td>1.314032</td>\n",
              "      <td>0.285852</td>\n",
              "      <td>4.300371</td>\n",
              "      <td>0.668602</td>\n",
              "    </tr>\n",
              "    <tr>\n",
              "      <th>std</th>\n",
              "      <td>436.719963</td>\n",
              "      <td>0.499988</td>\n",
              "      <td>0.499955</td>\n",
              "      <td>0.499837</td>\n",
              "      <td>0.418903</td>\n",
              "      <td>0.488825</td>\n",
              "      <td>0.487320</td>\n",
              "      <td>1.259116</td>\n",
              "      <td>0.527790</td>\n",
              "      <td>3.373063</td>\n",
              "      <td>0.923494</td>\n",
              "    </tr>\n",
              "    <tr>\n",
              "      <th>min</th>\n",
              "      <td>132.000000</td>\n",
              "      <td>0.000000</td>\n",
              "      <td>0.000000</td>\n",
              "      <td>0.000000</td>\n",
              "      <td>0.000000</td>\n",
              "      <td>0.000000</td>\n",
              "      <td>0.000000</td>\n",
              "      <td>0.000000</td>\n",
              "      <td>0.000000</td>\n",
              "      <td>0.000000</td>\n",
              "      <td>0.000000</td>\n",
              "    </tr>\n",
              "    <tr>\n",
              "      <th>25%</th>\n",
              "      <td>1107.000000</td>\n",
              "      <td>0.000000</td>\n",
              "      <td>0.000000</td>\n",
              "      <td>0.000000</td>\n",
              "      <td>0.000000</td>\n",
              "      <td>0.000000</td>\n",
              "      <td>0.000000</td>\n",
              "      <td>0.000000</td>\n",
              "      <td>0.000000</td>\n",
              "      <td>1.000000</td>\n",
              "      <td>0.000000</td>\n",
              "    </tr>\n",
              "    <tr>\n",
              "      <th>50%</th>\n",
              "      <td>1405.000000</td>\n",
              "      <td>0.000000</td>\n",
              "      <td>1.000000</td>\n",
              "      <td>1.000000</td>\n",
              "      <td>0.000000</td>\n",
              "      <td>0.000000</td>\n",
              "      <td>0.000000</td>\n",
              "      <td>1.000000</td>\n",
              "      <td>0.000000</td>\n",
              "      <td>4.000000</td>\n",
              "      <td>0.000000</td>\n",
              "    </tr>\n",
              "    <tr>\n",
              "      <th>75%</th>\n",
              "      <td>1723.000000</td>\n",
              "      <td>1.000000</td>\n",
              "      <td>1.000000</td>\n",
              "      <td>1.000000</td>\n",
              "      <td>0.000000</td>\n",
              "      <td>1.000000</td>\n",
              "      <td>1.000000</td>\n",
              "      <td>2.000000</td>\n",
              "      <td>1.000000</td>\n",
              "      <td>7.000000</td>\n",
              "      <td>1.000000</td>\n",
              "    </tr>\n",
              "    <tr>\n",
              "      <th>max</th>\n",
              "      <td>3758.000000</td>\n",
              "      <td>1.000000</td>\n",
              "      <td>1.000000</td>\n",
              "      <td>1.000000</td>\n",
              "      <td>1.000000</td>\n",
              "      <td>1.000000</td>\n",
              "      <td>1.000000</td>\n",
              "      <td>7.000000</td>\n",
              "      <td>4.000000</td>\n",
              "      <td>11.000000</td>\n",
              "      <td>9.000000</td>\n",
              "    </tr>\n",
              "  </tbody>\n",
              "</table>\n",
              "</div>\n",
              "      <button class=\"colab-df-convert\" onclick=\"convertToInteractive('df-0cf41816-d5d1-431d-a5d3-e8d50959fe1b')\"\n",
              "              title=\"Convert this dataframe to an interactive table.\"\n",
              "              style=\"display:none;\">\n",
              "        \n",
              "  <svg xmlns=\"http://www.w3.org/2000/svg\" height=\"24px\"viewBox=\"0 0 24 24\"\n",
              "       width=\"24px\">\n",
              "    <path d=\"M0 0h24v24H0V0z\" fill=\"none\"/>\n",
              "    <path d=\"M18.56 5.44l.94 2.06.94-2.06 2.06-.94-2.06-.94-.94-2.06-.94 2.06-2.06.94zm-11 1L8.5 8.5l.94-2.06 2.06-.94-2.06-.94L8.5 2.5l-.94 2.06-2.06.94zm10 10l.94 2.06.94-2.06 2.06-.94-2.06-.94-.94-2.06-.94 2.06-2.06.94z\"/><path d=\"M17.41 7.96l-1.37-1.37c-.4-.4-.92-.59-1.43-.59-.52 0-1.04.2-1.43.59L10.3 9.45l-7.72 7.72c-.78.78-.78 2.05 0 2.83L4 21.41c.39.39.9.59 1.41.59.51 0 1.02-.2 1.41-.59l7.78-7.78 2.81-2.81c.8-.78.8-2.07 0-2.86zM5.41 20L4 18.59l7.72-7.72 1.47 1.35L5.41 20z\"/>\n",
              "  </svg>\n",
              "      </button>\n",
              "      \n",
              "  <style>\n",
              "    .colab-df-container {\n",
              "      display:flex;\n",
              "      flex-wrap:wrap;\n",
              "      gap: 12px;\n",
              "    }\n",
              "\n",
              "    .colab-df-convert {\n",
              "      background-color: #E8F0FE;\n",
              "      border: none;\n",
              "      border-radius: 50%;\n",
              "      cursor: pointer;\n",
              "      display: none;\n",
              "      fill: #1967D2;\n",
              "      height: 32px;\n",
              "      padding: 0 0 0 0;\n",
              "      width: 32px;\n",
              "    }\n",
              "\n",
              "    .colab-df-convert:hover {\n",
              "      background-color: #E2EBFA;\n",
              "      box-shadow: 0px 1px 2px rgba(60, 64, 67, 0.3), 0px 1px 3px 1px rgba(60, 64, 67, 0.15);\n",
              "      fill: #174EA6;\n",
              "    }\n",
              "\n",
              "    [theme=dark] .colab-df-convert {\n",
              "      background-color: #3B4455;\n",
              "      fill: #D2E3FC;\n",
              "    }\n",
              "\n",
              "    [theme=dark] .colab-df-convert:hover {\n",
              "      background-color: #434B5C;\n",
              "      box-shadow: 0px 1px 3px 1px rgba(0, 0, 0, 0.15);\n",
              "      filter: drop-shadow(0px 1px 2px rgba(0, 0, 0, 0.3));\n",
              "      fill: #FFFFFF;\n",
              "    }\n",
              "  </style>\n",
              "\n",
              "      <script>\n",
              "        const buttonEl =\n",
              "          document.querySelector('#df-0cf41816-d5d1-431d-a5d3-e8d50959fe1b button.colab-df-convert');\n",
              "        buttonEl.style.display =\n",
              "          google.colab.kernel.accessAllowed ? 'block' : 'none';\n",
              "\n",
              "        async function convertToInteractive(key) {\n",
              "          const element = document.querySelector('#df-0cf41816-d5d1-431d-a5d3-e8d50959fe1b');\n",
              "          const dataTable =\n",
              "            await google.colab.kernel.invokeFunction('convertToInteractive',\n",
              "                                                     [key], {});\n",
              "          if (!dataTable) return;\n",
              "\n",
              "          const docLinkHtml = 'Like what you see? Visit the ' +\n",
              "            '<a target=\"_blank\" href=https://colab.research.google.com/notebooks/data_table.ipynb>data table notebook</a>'\n",
              "            + ' to learn more about interactive tables.';\n",
              "          element.innerHTML = '';\n",
              "          dataTable['output_type'] = 'display_data';\n",
              "          await google.colab.output.renderOutput(dataTable, element);\n",
              "          const docLink = document.createElement('div');\n",
              "          docLink.innerHTML = docLinkHtml;\n",
              "          element.appendChild(docLink);\n",
              "        }\n",
              "      </script>\n",
              "    </div>\n",
              "  </div>\n",
              "  "
            ],
            "text/plain": [
              "        gameDuration           Wins     FirstBlood     FirstTower  \\\n",
              "count  145740.000000  145740.000000  145740.000000  145740.000000   \n",
              "mean     1422.499609       0.496274       0.506862       0.512852   \n",
              "std       436.719963       0.499988       0.499955       0.499837   \n",
              "min       132.000000       0.000000       0.000000       0.000000   \n",
              "25%      1107.000000       0.000000       0.000000       0.000000   \n",
              "50%      1405.000000       0.000000       1.000000       1.000000   \n",
              "75%      1723.000000       1.000000       1.000000       1.000000   \n",
              "max      3758.000000       1.000000       1.000000       1.000000   \n",
              "\n",
              "          FirstBaron    FirstDragon  FirstInhibitor    DragonKills  \\\n",
              "count  145740.000000  145740.000000   145740.000000  145740.000000   \n",
              "mean        0.227014       0.394874        0.388102       1.314032   \n",
              "std         0.418903       0.488825        0.487320       1.259116   \n",
              "min         0.000000       0.000000        0.000000       0.000000   \n",
              "25%         0.000000       0.000000        0.000000       0.000000   \n",
              "50%         0.000000       0.000000        0.000000       1.000000   \n",
              "75%         0.000000       1.000000        1.000000       2.000000   \n",
              "max         1.000000       1.000000        1.000000       7.000000   \n",
              "\n",
              "          BaronKills     TowerKills  InhibitorKills  \n",
              "count  145740.000000  145740.000000   145740.000000  \n",
              "mean        0.285852       4.300371        0.668602  \n",
              "std         0.527790       3.373063        0.923494  \n",
              "min         0.000000       0.000000        0.000000  \n",
              "25%         0.000000       1.000000        0.000000  \n",
              "50%         0.000000       4.000000        0.000000  \n",
              "75%         1.000000       7.000000        1.000000  \n",
              "max         4.000000      11.000000        9.000000  "
            ]
          },
          "execution_count": 133,
          "metadata": {},
          "output_type": "execute_result"
        }
      ],
      "source": [
        "# 데이터 확인, 칼럼이 많아서 나눠서 확인함\n",
        "df_blue.describe().iloc[:,0:11]"
      ]
    },
    {
      "cell_type": "code",
      "execution_count": null,
      "metadata": {
        "colab": {
          "base_uri": "https://localhost:8080/",
          "height": 300
        },
        "id": "I5MXW6vtLMn6",
        "outputId": "66b1f335-cae3-4946-f080-4a74617c3cdd"
      },
      "outputs": [
        {
          "data": {
            "text/html": [
              "\n",
              "  <div id=\"df-3bbbaa7a-1000-45e9-a718-23b3e958515f\">\n",
              "    <div class=\"colab-df-container\">\n",
              "      <div>\n",
              "<style scoped>\n",
              "    .dataframe tbody tr th:only-of-type {\n",
              "        vertical-align: middle;\n",
              "    }\n",
              "\n",
              "    .dataframe tbody tr th {\n",
              "        vertical-align: top;\n",
              "    }\n",
              "\n",
              "    .dataframe thead th {\n",
              "        text-align: right;\n",
              "    }\n",
              "</style>\n",
              "<table border=\"1\" class=\"dataframe\">\n",
              "  <thead>\n",
              "    <tr style=\"text-align: right;\">\n",
              "      <th></th>\n",
              "      <th>WardPlaced</th>\n",
              "      <th>Wardkills</th>\n",
              "      <th>Kills</th>\n",
              "      <th>Death</th>\n",
              "      <th>Assist</th>\n",
              "      <th>ChampionDamageDealt</th>\n",
              "      <th>TotalGold</th>\n",
              "      <th>TotalMinionKills</th>\n",
              "      <th>TotalLevel</th>\n",
              "      <th>JungleMinionKills</th>\n",
              "      <th>KillingSpree</th>\n",
              "      <th>TotalHeal</th>\n",
              "      <th>ObjectDamageDealt</th>\n",
              "    </tr>\n",
              "  </thead>\n",
              "  <tbody>\n",
              "    <tr>\n",
              "      <th>count</th>\n",
              "      <td>145740.000000</td>\n",
              "      <td>145740.000000</td>\n",
              "      <td>145740.000000</td>\n",
              "      <td>145740.000000</td>\n",
              "      <td>145740.000000</td>\n",
              "      <td>145740.000000</td>\n",
              "      <td>145740.000000</td>\n",
              "      <td>145740.000000</td>\n",
              "      <td>145740.000000</td>\n",
              "      <td>145740.000000</td>\n",
              "      <td>145740.000000</td>\n",
              "      <td>145740.000000</td>\n",
              "      <td>145740.000000</td>\n",
              "    </tr>\n",
              "    <tr>\n",
              "      <th>mean</th>\n",
              "      <td>50.614636</td>\n",
              "      <td>18.123432</td>\n",
              "      <td>25.674921</td>\n",
              "      <td>25.643804</td>\n",
              "      <td>42.205832</td>\n",
              "      <td>71131.585152</td>\n",
              "      <td>48474.847743</td>\n",
              "      <td>487.089083</td>\n",
              "      <td>65.256464</td>\n",
              "      <td>118.784205</td>\n",
              "      <td>5.934836</td>\n",
              "      <td>24398.534733</td>\n",
              "      <td>35957.435570</td>\n",
              "    </tr>\n",
              "    <tr>\n",
              "      <th>std</th>\n",
              "      <td>30.729351</td>\n",
              "      <td>14.529431</td>\n",
              "      <td>14.208952</td>\n",
              "      <td>14.189339</td>\n",
              "      <td>31.135478</td>\n",
              "      <td>38952.610937</td>\n",
              "      <td>16428.006959</td>\n",
              "      <td>181.368508</td>\n",
              "      <td>15.144496</td>\n",
              "      <td>68.317444</td>\n",
              "      <td>3.812433</td>\n",
              "      <td>15413.346919</td>\n",
              "      <td>26728.590477</td>\n",
              "    </tr>\n",
              "    <tr>\n",
              "      <th>min</th>\n",
              "      <td>0.000000</td>\n",
              "      <td>0.000000</td>\n",
              "      <td>0.000000</td>\n",
              "      <td>0.000000</td>\n",
              "      <td>0.000000</td>\n",
              "      <td>0.000000</td>\n",
              "      <td>3355.000000</td>\n",
              "      <td>0.000000</td>\n",
              "      <td>5.000000</td>\n",
              "      <td>0.000000</td>\n",
              "      <td>0.000000</td>\n",
              "      <td>0.000000</td>\n",
              "      <td>0.000000</td>\n",
              "    </tr>\n",
              "    <tr>\n",
              "      <th>25%</th>\n",
              "      <td>30.000000</td>\n",
              "      <td>6.000000</td>\n",
              "      <td>15.000000</td>\n",
              "      <td>15.000000</td>\n",
              "      <td>20.000000</td>\n",
              "      <td>42041.750000</td>\n",
              "      <td>36824.000000</td>\n",
              "      <td>362.000000</td>\n",
              "      <td>56.000000</td>\n",
              "      <td>76.000000</td>\n",
              "      <td>3.000000</td>\n",
              "      <td>13221.000000</td>\n",
              "      <td>11676.000000</td>\n",
              "    </tr>\n",
              "    <tr>\n",
              "      <th>50%</th>\n",
              "      <td>51.000000</td>\n",
              "      <td>16.000000</td>\n",
              "      <td>24.000000</td>\n",
              "      <td>24.000000</td>\n",
              "      <td>36.000000</td>\n",
              "      <td>65754.000000</td>\n",
              "      <td>48428.000000</td>\n",
              "      <td>503.000000</td>\n",
              "      <td>66.000000</td>\n",
              "      <td>122.000000</td>\n",
              "      <td>5.000000</td>\n",
              "      <td>21283.000000</td>\n",
              "      <td>31497.500000</td>\n",
              "    </tr>\n",
              "    <tr>\n",
              "      <th>75%</th>\n",
              "      <td>71.000000</td>\n",
              "      <td>27.000000</td>\n",
              "      <td>34.000000</td>\n",
              "      <td>34.000000</td>\n",
              "      <td>56.000000</td>\n",
              "      <td>93163.000000</td>\n",
              "      <td>59517.000000</td>\n",
              "      <td>615.000000</td>\n",
              "      <td>76.000000</td>\n",
              "      <td>166.000000</td>\n",
              "      <td>8.000000</td>\n",
              "      <td>32086.250000</td>\n",
              "      <td>55620.250000</td>\n",
              "    </tr>\n",
              "    <tr>\n",
              "      <th>max</th>\n",
              "      <td>230.000000</td>\n",
              "      <td>118.000000</td>\n",
              "      <td>112.000000</td>\n",
              "      <td>117.000000</td>\n",
              "      <td>256.000000</td>\n",
              "      <td>381484.000000</td>\n",
              "      <td>134323.000000</td>\n",
              "      <td>1514.000000</td>\n",
              "      <td>141.000000</td>\n",
              "      <td>402.000000</td>\n",
              "      <td>31.000000</td>\n",
              "      <td>261707.000000</td>\n",
              "      <td>167692.000000</td>\n",
              "    </tr>\n",
              "  </tbody>\n",
              "</table>\n",
              "</div>\n",
              "      <button class=\"colab-df-convert\" onclick=\"convertToInteractive('df-3bbbaa7a-1000-45e9-a718-23b3e958515f')\"\n",
              "              title=\"Convert this dataframe to an interactive table.\"\n",
              "              style=\"display:none;\">\n",
              "        \n",
              "  <svg xmlns=\"http://www.w3.org/2000/svg\" height=\"24px\"viewBox=\"0 0 24 24\"\n",
              "       width=\"24px\">\n",
              "    <path d=\"M0 0h24v24H0V0z\" fill=\"none\"/>\n",
              "    <path d=\"M18.56 5.44l.94 2.06.94-2.06 2.06-.94-2.06-.94-.94-2.06-.94 2.06-2.06.94zm-11 1L8.5 8.5l.94-2.06 2.06-.94-2.06-.94L8.5 2.5l-.94 2.06-2.06.94zm10 10l.94 2.06.94-2.06 2.06-.94-2.06-.94-.94-2.06-.94 2.06-2.06.94z\"/><path d=\"M17.41 7.96l-1.37-1.37c-.4-.4-.92-.59-1.43-.59-.52 0-1.04.2-1.43.59L10.3 9.45l-7.72 7.72c-.78.78-.78 2.05 0 2.83L4 21.41c.39.39.9.59 1.41.59.51 0 1.02-.2 1.41-.59l7.78-7.78 2.81-2.81c.8-.78.8-2.07 0-2.86zM5.41 20L4 18.59l7.72-7.72 1.47 1.35L5.41 20z\"/>\n",
              "  </svg>\n",
              "      </button>\n",
              "      \n",
              "  <style>\n",
              "    .colab-df-container {\n",
              "      display:flex;\n",
              "      flex-wrap:wrap;\n",
              "      gap: 12px;\n",
              "    }\n",
              "\n",
              "    .colab-df-convert {\n",
              "      background-color: #E8F0FE;\n",
              "      border: none;\n",
              "      border-radius: 50%;\n",
              "      cursor: pointer;\n",
              "      display: none;\n",
              "      fill: #1967D2;\n",
              "      height: 32px;\n",
              "      padding: 0 0 0 0;\n",
              "      width: 32px;\n",
              "    }\n",
              "\n",
              "    .colab-df-convert:hover {\n",
              "      background-color: #E2EBFA;\n",
              "      box-shadow: 0px 1px 2px rgba(60, 64, 67, 0.3), 0px 1px 3px 1px rgba(60, 64, 67, 0.15);\n",
              "      fill: #174EA6;\n",
              "    }\n",
              "\n",
              "    [theme=dark] .colab-df-convert {\n",
              "      background-color: #3B4455;\n",
              "      fill: #D2E3FC;\n",
              "    }\n",
              "\n",
              "    [theme=dark] .colab-df-convert:hover {\n",
              "      background-color: #434B5C;\n",
              "      box-shadow: 0px 1px 3px 1px rgba(0, 0, 0, 0.15);\n",
              "      filter: drop-shadow(0px 1px 2px rgba(0, 0, 0, 0.3));\n",
              "      fill: #FFFFFF;\n",
              "    }\n",
              "  </style>\n",
              "\n",
              "      <script>\n",
              "        const buttonEl =\n",
              "          document.querySelector('#df-3bbbaa7a-1000-45e9-a718-23b3e958515f button.colab-df-convert');\n",
              "        buttonEl.style.display =\n",
              "          google.colab.kernel.accessAllowed ? 'block' : 'none';\n",
              "\n",
              "        async function convertToInteractive(key) {\n",
              "          const element = document.querySelector('#df-3bbbaa7a-1000-45e9-a718-23b3e958515f');\n",
              "          const dataTable =\n",
              "            await google.colab.kernel.invokeFunction('convertToInteractive',\n",
              "                                                     [key], {});\n",
              "          if (!dataTable) return;\n",
              "\n",
              "          const docLinkHtml = 'Like what you see? Visit the ' +\n",
              "            '<a target=\"_blank\" href=https://colab.research.google.com/notebooks/data_table.ipynb>data table notebook</a>'\n",
              "            + ' to learn more about interactive tables.';\n",
              "          element.innerHTML = '';\n",
              "          dataTable['output_type'] = 'display_data';\n",
              "          await google.colab.output.renderOutput(dataTable, element);\n",
              "          const docLink = document.createElement('div');\n",
              "          docLink.innerHTML = docLinkHtml;\n",
              "          element.appendChild(docLink);\n",
              "        }\n",
              "      </script>\n",
              "    </div>\n",
              "  </div>\n",
              "  "
            ],
            "text/plain": [
              "          WardPlaced      Wardkills          Kills          Death  \\\n",
              "count  145740.000000  145740.000000  145740.000000  145740.000000   \n",
              "mean       50.614636      18.123432      25.674921      25.643804   \n",
              "std        30.729351      14.529431      14.208952      14.189339   \n",
              "min         0.000000       0.000000       0.000000       0.000000   \n",
              "25%        30.000000       6.000000      15.000000      15.000000   \n",
              "50%        51.000000      16.000000      24.000000      24.000000   \n",
              "75%        71.000000      27.000000      34.000000      34.000000   \n",
              "max       230.000000     118.000000     112.000000     117.000000   \n",
              "\n",
              "              Assist  ChampionDamageDealt      TotalGold  TotalMinionKills  \\\n",
              "count  145740.000000        145740.000000  145740.000000     145740.000000   \n",
              "mean       42.205832         71131.585152   48474.847743        487.089083   \n",
              "std        31.135478         38952.610937   16428.006959        181.368508   \n",
              "min         0.000000             0.000000    3355.000000          0.000000   \n",
              "25%        20.000000         42041.750000   36824.000000        362.000000   \n",
              "50%        36.000000         65754.000000   48428.000000        503.000000   \n",
              "75%        56.000000         93163.000000   59517.000000        615.000000   \n",
              "max       256.000000        381484.000000  134323.000000       1514.000000   \n",
              "\n",
              "          TotalLevel  JungleMinionKills   KillingSpree      TotalHeal  \\\n",
              "count  145740.000000      145740.000000  145740.000000  145740.000000   \n",
              "mean       65.256464         118.784205       5.934836   24398.534733   \n",
              "std        15.144496          68.317444       3.812433   15413.346919   \n",
              "min         5.000000           0.000000       0.000000       0.000000   \n",
              "25%        56.000000          76.000000       3.000000   13221.000000   \n",
              "50%        66.000000         122.000000       5.000000   21283.000000   \n",
              "75%        76.000000         166.000000       8.000000   32086.250000   \n",
              "max       141.000000         402.000000      31.000000  261707.000000   \n",
              "\n",
              "       ObjectDamageDealt  \n",
              "count      145740.000000  \n",
              "mean        35957.435570  \n",
              "std         26728.590477  \n",
              "min             0.000000  \n",
              "25%         11676.000000  \n",
              "50%         31497.500000  \n",
              "75%         55620.250000  \n",
              "max        167692.000000  "
            ]
          },
          "execution_count": 134,
          "metadata": {},
          "output_type": "execute_result"
        }
      ],
      "source": [
        "df_blue.describe().iloc[:,11:]"
      ]
    },
    {
      "cell_type": "markdown",
      "metadata": {
        "id": "AyTAgat5IpUS"
      },
      "source": [
        "- gameDuration(게임시간 - 초 단위) : 비정상적으로 작은 값 존재(시작한 지 90초 이내 탈주한 인원이 있으면 그 게임은 무승부처리됨 -> 해당 인덱스 제거 필요\n",
        "- WardPlaced(와드설치) : 이것과 Wardkills 둘 다 min 값 이상함. 확인할 필요 있음, 또한 outlier도 의심해야함, 중앙값, 3사분위수에 비해 max가 너무 큼\n",
        "- Kills : 평균 26, 중앙값 24, 3사분위수가 34인데, max가 112 >> 이상치 제거 필요\n",
        "- Death : Kill 칼럼과 마찬가지\n",
        "- minionkills, jungleminionkills :  정글과 미니언 킬의 합 / 5 >> 새 칼럼 생성  "
      ]
    },
    {
      "cell_type": "code",
      "execution_count": null,
      "metadata": {
        "colab": {
          "base_uri": "https://localhost:8080/",
          "height": 934
        },
        "id": "yHjW13LNeIu3",
        "outputId": "dfd3b152-f226-4285-d683-f6861935cc79"
      },
      "outputs": [
        {
          "data": {
            "image/png": "[encoded data removed]",
            "text/plain": [
              "<Figure size 2160x1152 with 24 Axes>"
            ]
          },
          "metadata": {},
          "output_type": "display_data"
        }
      ],
      "source": [
        "cols = df_blue.columns\n",
        "plt.figure(figsize=(30,16))\n",
        "for i, col in enumerate(cols):\n",
        "  plt.subplot(3,8,i+1)\n",
        "  plt.hist(df_blue[col])\n",
        "  plt.title(str(col),fontsize=13)\n",
        "plt.show()"
      ]
    },
    {
      "cell_type": "code",
      "execution_count": null,
      "metadata": {
        "id": "kbK59eWwifSM"
      },
      "outputs": [],
      "source": [
        "# 전처리 함수\n",
        "def Engineer(df):\n",
        "  condi3 = (df['Kills'] >= 50) | (df['Death']>= 50) | (df['Assist'] >= 100) | (df['WardPlaced']>=120) | (df['Wardkills']>=60) | ((df['TotalLevel']>=90) | (df['TotalLevel']<=7))\n",
        "  condi4 = (df['DragonKills']>=5) | (df['ChampionDamageDealt']>=120000) | (df['TotalMinionKills']>=850) | (df['JungleMinionKills']>=260)\n",
        "  condi5 = (condi3 | condi4)\n",
        "\n",
        "  df = df.loc[~condi5]\n",
        "  df = df.reset_index(drop=True)\n",
        "\n",
        "  condi1 = (df['gameDuration'] < 500) | (df['gameDuration'] > 2400)\n",
        "  condi2 = (df['WardPlaced'] <= 5) & (df['Wardkills'] <= 5)\n",
        "  condi = (condi1 | condi2)\n",
        "  \n",
        "  df = df.loc[~condi]\n",
        "  df = df.reset_index(drop=True)\n",
        "\n",
        "  df['Avg_CS'] = (df['JungleMinionKills'] + df['TotalMinionKills'])/5\n",
        "  df['Avg_Level'] = df['TotalLevel'] / 5\n",
        "\n",
        "  drop_col= ['JungleMinionKills','TotalMinionKills','TotalLevel']\n",
        "  df.drop(columns=drop_col, inplace=True)\n",
        "\n",
        "  return df"
      ]
    },
    {
      "cell_type": "code",
      "execution_count": null,
      "metadata": {
        "colab": {
          "base_uri": "https://localhost:8080/"
        },
        "id": "SZruSpAmpJJt",
        "outputId": "4a6f6542-ec3f-4f18-c97d-6b89fa6a7e7d"
      },
      "outputs": [
        {
          "data": {
            "text/plain": [
              "(112507, 23)"
            ]
          },
          "execution_count": 137,
          "metadata": {},
          "output_type": "execute_result"
        }
      ],
      "source": [
        "df_blue = Engineer(df_blue)\n",
        "df_blue.shape"
      ]
    },
    {
      "cell_type": "code",
      "execution_count": null,
      "metadata": {
        "colab": {
          "base_uri": "https://localhost:8080/",
          "height": 934
        },
        "id": "pbkqaD04gC67",
        "outputId": "4d4fbc5d-1ef0-44cb-cc91-b46df314ed5b"
      },
      "outputs": [
        {
          "data": {
            "image/png": "[encoded data removed]",
            "text/plain": [
              "<Figure size 2160x1152 with 23 Axes>"
            ]
          },
          "metadata": {},
          "output_type": "display_data"
        }
      ],
      "source": [
        "cols = df_blue.columns\n",
        "plt.figure(figsize=(30,16))\n",
        "for i, col in enumerate(cols):\n",
        "  plt.subplot(3,8,i+1)\n",
        "  plt.hist(df_blue[col])\n",
        "  plt.title(str(col),fontsize=13)\n",
        "plt.show()"
      ]
    },
    {
      "cell_type": "code",
      "execution_count": null,
      "metadata": {
        "id": "GSw_YmxJlcZN"
      },
      "outputs": [],
      "source": [
        "def Engineer2(df):\n",
        "  cond1 = (df['Assist']>65) | (df['BaronKills']>=3) | (df['InhibitorKills']>=4) | (df['Wardkills']>=45)\n",
        "  cond2 = (df['TotalGold']>=66000) | (df['KillingSpree']>=10) | (df['TotalHeal']>=50000) | (df['Avg_CS']<=40.0) | (df['Avg_Level']<=8.0)\n",
        "\n",
        "  cond3 = cond1|cond2\n",
        "  df = df.loc[~cond3]\n",
        "  df = df.reset_index(drop=True)\n",
        "  \n",
        "  drop_cols = ['gameDuration','KillingSpree','ObjectDamageDealt','TowerKills','InhibitorKills','Assist','TotalGold',\n",
        "         'Wardkills','FirstDragon','TotalHeal','FirstBaron','FirstTower','FirstBlood','KillingSpree']\n",
        "  df.drop(columns=drop_cols, inplace=True)\n",
        "\n",
        "  return df"
      ]
    },
    {
      "cell_type": "code",
      "execution_count": null,
      "metadata": {
        "id": "GxFX1hsHnJAc"
      },
      "outputs": [],
      "source": [
        "df_blue=Engineer2(df_blue)"
      ]
    },
    {
      "cell_type": "code",
      "execution_count": null,
      "metadata": {
        "id": "fIY-PLBTlcUu"
      },
      "outputs": [],
      "source": [
        "cols = df_blue.columns\n",
        "plt.figure(figsize=(20,14))\n",
        "for i, col in enumerate(cols):\n",
        "  plt.subplot(2,5,i+1)\n",
        "  plt.hist(df_blue[col])\n",
        "  plt.title(str(col),fontsize=13)\n",
        "plt.show()"
      ]
    },
    {
      "cell_type": "code",
      "execution_count": null,
      "metadata": {
        "id": "s7EWDc_PpQ8c"
      },
      "outputs": [],
      "source": [
        "df_blue.describe().iloc[:,0:11]"
      ]
    },
    {
      "cell_type": "markdown",
      "metadata": {
        "id": "4hmW1hlXtDqz"
      },
      "source": [
        "- kills, death의 min이 0인 것은 압도적으로 이겼거나, 졌을 때의 경기라 상관 x"
      ]
    },
    {
      "cell_type": "code",
      "execution_count": null,
      "metadata": {
        "id": "9IdmH9L7s6VI"
      },
      "outputs": [],
      "source": [
        "# 전처리 후 타겟 데이터 비율\n",
        "df_blue.Wins.value_counts(normalize=True) "
      ]
    },
    {
      "cell_type": "code",
      "execution_count": null,
      "metadata": {
        "id": "a2ZaXXQzvKQq"
      },
      "outputs": [],
      "source": [
        "df_blue.corr().iloc[:,0:11]"
      ]
    },
    {
      "cell_type": "code",
      "execution_count": null,
      "metadata": {
        "id": "udpjDgI4uVII"
      },
      "outputs": [],
      "source": [
        "from sklearn.model_selection import train_test_split\n",
        "from sklearn.metrics import accuracy_score,f1_score,classification_report\n",
        "from sklearn.pipeline import make_pipeline\n",
        "from xgboost import XGBClassifier"
      ]
    },
    {
      "cell_type": "code",
      "execution_count": null,
      "metadata": {
        "id": "DKI5bKxqIaHd"
      },
      "outputs": [],
      "source": [
        "train, test = train_test_split(df_blue, test_size = 0.2, random_state=42)\n",
        "train, val = train_test_split(train, test_size=0.2, random_state=42)\n",
        "\n",
        "train.shape, val.shape, test.shape"
      ]
    },
    {
      "cell_type": "code",
      "execution_count": null,
      "metadata": {
        "id": "Mp9Pp1jXKFh1"
      },
      "outputs": [],
      "source": [
        "target = 'Wins'\n",
        "\n",
        "X_train, y_train = train.drop(columns=target), train[target]\n",
        "X_val, y_val = val.drop(columns=target), val[target]\n",
        "X_test, y_test = test.drop(columns=target), test[target]\n",
        "X_train.shape, X_val.shape, X_test.shape, y_train.shape, y_val.shape, y_test.shape"
      ]
    },
    {
      "cell_type": "code",
      "execution_count": null,
      "metadata": {
        "id": "D7aKmfULUNRp"
      },
      "outputs": [],
      "source": [
        "# 기준모델 생성\n",
        "base = y_train.mode()[0]\n",
        "baseline = [base] * y_train\n",
        "acc_score_base = accuracy_score(y_train, baseline)\n",
        "acc_score_base"
      ]
    },
    {
      "cell_type": "code",
      "execution_count": null,
      "metadata": {
        "id": "vS_umnXS4zyU"
      },
      "outputs": [],
      "source": [
        "# 랜덤포레스트\n",
        "\n",
        "from sklearn.ensemble import RandomForestClassifier\n",
        "pipe_rf = make_pipeline(\n",
        "    RandomForestClassifier(random_state=42, oob_score=True, n_jobs=-1),\n",
        ")\n",
        "pipe_rf.fit(X_train, y_train)\n",
        "print(\"훈련 정확도: \", pipe_rf.score(X_train, y_train))\n",
        "print(\"검증 정확도: \", pipe_rf.score(X_val, y_val))"
      ]
    },
    {
      "cell_type": "code",
      "execution_count": null,
      "metadata": {
        "id": "QSXN7b3H4zvx"
      },
      "outputs": [],
      "source": [
        "pipe_rf.named_steps[\"randomforestclassifier\"].oob_score_"
      ]
    },
    {
      "cell_type": "code",
      "execution_count": null,
      "metadata": {
        "id": "_BwsNjFM4zom"
      },
      "outputs": [],
      "source": [
        "from sklearn.metrics import plot_confusion_matrix\n",
        "import matplotlib.pyplot as plt\n",
        "\n",
        "fig, ax = plt.subplots()\n",
        "pcm = plot_confusion_matrix(pipe_rf, X_val, y_val,\n",
        "                            cmap=plt.cm.Blues,\n",
        "                            ax=ax)\n",
        "plt.show()"
      ]
    },
    {
      "cell_type": "code",
      "execution_count": null,
      "metadata": {
        "id": "t6XzWI2NAKQZ"
      },
      "outputs": [],
      "source": [
        "tree = pipe_rf[0].estimators_[5]"
      ]
    },
    {
      "cell_type": "code",
      "execution_count": null,
      "metadata": {
        "id": "wTd2Hymi-wrj"
      },
      "outputs": [],
      "source": [
        "import graphviz\n",
        "from sklearn.tree import export_graphviz\n",
        "\n",
        "tree = tree = pipe_rf[0].estimators_[5]\n",
        "\n",
        "dot_data = export_graphviz(tree,\n",
        "                feature_names = X_val.columns,\n",
        "                max_depth = 3, # 표현하고 싶은 최대 depth\n",
        "                precision = 3, # 소수점 표기 자릿수\n",
        "                filled = True, # class별 color 채우기\n",
        "                rounded=True, # 박스의 모양을 둥글게\n",
        "               )\n",
        "graphviz.Source(dot_data)"
      ]
    },
    {
      "cell_type": "code",
      "execution_count": null,
      "metadata": {
        "colab": {
          "background_save": true
        },
        "id": "OvjaoeFr4ztd",
        "outputId": "b27a8ce0-8e08-4247-e9b5-83503966566d"
      },
      "outputs": [
        {
          "name": "stdout",
          "output_type": "stream",
          "text": [
            "              precision    recall  f1-score   support\n",
            "\n",
            "           0       0.99      0.98      0.98      8076\n",
            "           1       0.98      0.98      0.98      6707\n",
            "\n",
            "    accuracy                           0.98     14783\n",
            "   macro avg       0.98      0.98      0.98     14783\n",
            "weighted avg       0.98      0.98      0.98     14783\n",
            "\n"
          ]
        }
      ],
      "source": [
        "# 검증 세트의 점수\n",
        "y_rf_pred = pipe_rf.predict(X_val)\n",
        "print(classification_report(y_val,y_rf_pred))"
      ]
    },
    {
      "cell_type": "code",
      "execution_count": null,
      "metadata": {
        "colab": {
          "background_save": true
        },
        "id": "BqjL6Kow4zmB"
      },
      "outputs": [],
      "source": []
    },
    {
      "cell_type": "code",
      "execution_count": null,
      "metadata": {
        "colab": {
          "background_save": true
        },
        "id": "uMumK9jj4zjh"
      },
      "outputs": [],
      "source": []
    },
    {
      "cell_type": "code",
      "execution_count": null,
      "metadata": {
        "colab": {
          "background_save": true
        },
        "id": "dbimG2I0wb0O",
        "outputId": "7254e64c-f8fd-4e34-a752-74a4cf73d9cc"
      },
      "outputs": [
        {
          "data": {
            "text/plain": [
              "Pipeline(steps=[('xgbclassifier',\n",
              "                 XGBClassifier(eval_metric='error', n_estimators=1000,\n",
              "                               n_jobs=-1, random_state=42,\n",
              "                               use_label_encoder=False))])"
            ]
          },
          "execution_count": 155,
          "metadata": {},
          "output_type": "execute_result"
        }
      ],
      "source": [
        "# xgboost 사용\n",
        "pipe = make_pipeline(\n",
        "    XGBClassifier(\n",
        "        objective=\"binary:logistic\",\n",
        "        eval_metric=\"error\",\n",
        "        n_estimators=1000,\n",
        "        random_state=42,\n",
        "        n_jobs=-1,\n",
        "        learning_rate=0.1,\n",
        "        use_label_encoder=False,\n",
        "    )\n",
        ")\n",
        "pipe.fit(X_train,y_train)"
      ]
    },
    {
      "cell_type": "code",
      "execution_count": null,
      "metadata": {
        "colab": {
          "background_save": true
        },
        "id": "pzQskiGYH9tN",
        "outputId": "25bc15a8-a147-4da3-f08b-08eff84b066a"
      },
      "outputs": [
        {
          "name": "stdout",
          "output_type": "stream",
          "text": [
            "검증 정확도 0.9830210376784144\n",
            "              precision    recall  f1-score   support\n",
            "\n",
            "           0       0.99      0.98      0.98      8076\n",
            "           1       0.98      0.98      0.98      6707\n",
            "\n",
            "    accuracy                           0.98     14783\n",
            "   macro avg       0.98      0.98      0.98     14783\n",
            "weighted avg       0.98      0.98      0.98     14783\n",
            "\n"
          ]
        }
      ],
      "source": [
        "print(\"검증 정확도\", pipe.score(X_val, y_val))\n",
        "\n",
        "y_pred = pipe.predict(X_val)\n",
        "print(classification_report(y_val, y_pred))"
      ]
    },
    {
      "cell_type": "code",
      "execution_count": null,
      "metadata": {
        "colab": {
          "background_save": true
        },
        "id": "DIgYM5Zd2S7p"
      },
      "outputs": [],
      "source": [
        "# Grid Search\n",
        "\n",
        "params = {\n",
        "    \"xgbclassifier__max_depth\": [2, 4, 6],\n",
        "    \"xgbclassifier__min_child_weight\": [6, 10, 14],\n",
        "    \"xgbclassifier__colsample_bytree\": [0.6, 0.8, 1.0],\n",
        "}"
      ]
    },
    {
      "cell_type": "code",
      "execution_count": null,
      "metadata": {
        "colab": {
          "background_save": true
        },
        "id": "0zHqa-J_2voX",
        "outputId": "1c7ca948-1abf-47e6-cdb9-0cd8cd3d96ef"
      },
      "outputs": [
        {
          "name": "stdout",
          "output_type": "stream",
          "text": [
            "Fitting 3 folds for each of 27 candidates, totalling 81 fits\n",
            "[CV 1/3] END xgbclassifier__colsample_bytree=0.6, xgbclassifier__max_depth=2, xgbclassifier__min_child_weight=6;, score=0.981 total time=  11.0s\n",
            "[CV 2/3] END xgbclassifier__colsample_bytree=0.6, xgbclassifier__max_depth=2, xgbclassifier__min_child_weight=6;, score=0.983 total time=  11.1s\n",
            "[CV 3/3] END xgbclassifier__colsample_bytree=0.6, xgbclassifier__max_depth=2, xgbclassifier__min_child_weight=6;, score=0.982 total time=  11.0s\n",
            "[CV 1/3] END xgbclassifier__colsample_bytree=0.6, xgbclassifier__max_depth=2, xgbclassifier__min_child_weight=10;, score=0.981 total time=  10.9s\n",
            "[CV 2/3] END xgbclassifier__colsample_bytree=0.6, xgbclassifier__max_depth=2, xgbclassifier__min_child_weight=10;, score=0.983 total time=  10.9s\n",
            "[CV 3/3] END xgbclassifier__colsample_bytree=0.6, xgbclassifier__max_depth=2, xgbclassifier__min_child_weight=10;, score=0.982 total time=  11.0s\n",
            "[CV 1/3] END xgbclassifier__colsample_bytree=0.6, xgbclassifier__max_depth=2, xgbclassifier__min_child_weight=14;, score=0.981 total time=  10.8s\n"
          ]
        }
      ],
      "source": [
        "from sklearn.model_selection import GridSearchCV\n",
        "\n",
        "grid_search = GridSearchCV(pipe, param_grid=params, scoring=\"f1\", cv=3, verbose=3)\n",
        "grid_search.fit(X_train, y_train)"
      ]
    },
    {
      "cell_type": "code",
      "execution_count": null,
      "metadata": {
        "id": "dta3-pEwbnsB"
      },
      "outputs": [],
      "source": [
        "print(\"최적 하이퍼파라미터: \", grid_search.best_params_)\n",
        "print(\"최적 f1: \", grid_search.best_score_)\n"
      ]
    },
    {
      "cell_type": "code",
      "execution_count": null,
      "metadata": {
        "id": "y_RfV2O7b8Yv"
      },
      "outputs": [],
      "source": [
        "pipe.named_steps"
      ]
    },
    {
      "cell_type": "code",
      "execution_count": null,
      "metadata": {
        "id": "P7vjUzRFb4Mc"
      },
      "outputs": [],
      "source": [
        "feature_importances = list(\n",
        "    zip(X_train.columns, pipe.named_steps[\"xgbclassifier\"].feature_importances_)\n",
        ")\n",
        "feature_importances = sorted(feature_importances, key=lambda x: x[1], reverse=True)\n",
        "\n",
        "plt.figure(figsize=(10, 10), dpi=120)\n",
        "plt.barh(*list(zip(*feature_importances[::-1])))\n",
        "plt.axvline(0.005, color=\"red\", linewidth=0.5)\n",
        "plt.show()"
      ]
    },
    {
      "cell_type": "code",
      "execution_count": null,
      "metadata": {
        "id": "Js61NhJ5QP5j"
      },
      "outputs": [],
      "source": [
        "def predict(X, y, best_estimator):\n",
        "    y_pred_proba = pipe.predict_proba(X)[:, 1]\n",
        "    report = classification_report(y, y_pred_proba > 0.5)\n",
        "    return y_pred_proba, report"
      ]
    },
    {
      "cell_type": "code",
      "execution_count": null,
      "metadata": {
        "id": "oWCZjNdlOmEE"
      },
      "outputs": [],
      "source": [
        "from sklearn.metrics import roc_curve, roc_auc_score\n",
        "\n",
        "\n",
        "def plot_roc(y, y_pred_proba):\n",
        "    auc_score = roc_auc_score(y, y_pred_proba)\n",
        "    fpr, tpr, _ = roc_curve(y, y_pred_proba)\n",
        "    baseline_fpr, baseline_tpr, _ = roc_curve(y, [0] * len(y))\n",
        "\n",
        "    plt.style.use(\"ggplot\")\n",
        "    plt.plot(fpr, tpr, label=\"Model\")\n",
        "    plt.plot(baseline_fpr, baseline_tpr, linestyle=\"--\", label=\"Baseline\")\n",
        "    plt.xlabel(\"False Positive Rate\", size=12)\n",
        "    plt.ylabel(\"True Positive Rate\", size=12)\n",
        "    plt.title(\"Receiver Operating Characteristic\")\n",
        "    plt.legend(prop={\"size\": 12})\n",
        "    plt.show()\n",
        "    return auc_score\n",
        "\n",
        "\n",
        "y_test_pred_proba, report = predict(X_test, y_test, grid_search.best_estimator_)\n",
        "print(report)\n",
        "auc_score = plot_roc(y_test, y_test_pred_proba)"
      ]
    },
    {
      "cell_type": "code",
      "execution_count": null,
      "metadata": {
        "id": "Oz4_Imu1Iqcp"
      },
      "outputs": [],
      "source": []
    },
    {
      "cell_type": "code",
      "execution_count": null,
      "metadata": {
        "id": "eRgX5UbIIqaT"
      },
      "outputs": [],
      "source": [
        "# RandomizedSearchCV\n",
        "from sklearn.model_selection import RandomizedSearchCV\n",
        "from scipy.stats.distributions import uniform\n",
        "\n",
        "params = {\n",
        "    \"xgbclassifier__max_depth\": [2, 4, 6],\n",
        "    \"xgbclassifier__min_child_weight\": [2, 4, 8],\n",
        "    \"xgbclassifier__colsample_bytree\": uniform(\n",
        "        loc=0.5, scale=0.5\n",
        "    ),  # 0.5 ~ 1 사이의 uniform 분포로 범위를 지정해 줍니다.\n",
        "}"
      ]
    },
    {
      "cell_type": "code",
      "execution_count": null,
      "metadata": {
        "id": "xHOc9sm1IqXw"
      },
      "outputs": [],
      "source": [
        "random_search = RandomizedSearchCV(\n",
        "    pipe,\n",
        "    param_distributions=params,\n",
        "    scoring=\"f1\",\n",
        "    n_iter=7,\n",
        "    cv=3,\n",
        "    verbose=3,\n",
        "    random_state=42,\n",
        ")\n",
        "random_search.fit(X_train, y_train)"
      ]
    },
    {
      "cell_type": "code",
      "execution_count": null,
      "metadata": {
        "id": "PaL6oIi7IqVF"
      },
      "outputs": [],
      "source": [
        "print(\"최적 하이퍼파라미터: \", random_search.best_params_)\n",
        "print(\"최적 f1: \", random_search.best_score_)"
      ]
    },
    {
      "cell_type": "code",
      "execution_count": null,
      "metadata": {
        "id": "SYYiqjuCIqSe"
      },
      "outputs": [],
      "source": [
        "import eli5\n",
        "from eli5.sklearn import PermutationImportance\n",
        "\n",
        "permuter = PermutationImportance(\n",
        "     pipe.named_steps['xgbclassifier'],\n",
        "     scoring='f1',\n",
        "     n_iter=10,\n",
        "     random_state=42\n",
        ")\n",
        "permuter.fit(X_test, y_test)"
      ]
    },
    {
      "cell_type": "code",
      "execution_count": null,
      "metadata": {
        "id": "IN7NO-70iBTM"
      },
      "outputs": [],
      "source": [
        "feature_names = X_test.columns.tolist()\n",
        "pi = pd.Series(permuter.feature_importances_, feature_names).sort_values()\n",
        "pi.plot.barh()\n",
        "plt.title(\"Permutation Importance\")"
      ]
    },
    {
      "cell_type": "code",
      "execution_count": null,
      "metadata": {
        "id": "E7LydvbZiM4v"
      },
      "outputs": [],
      "source": [
        "eli5.show_weights(\n",
        "    permuter,\n",
        "    top=None,  \n",
        "    feature_names=feature_names,\n",
        ")"
      ]
    },
    {
      "cell_type": "code",
      "execution_count": null,
      "metadata": {
        "id": "OXetq4fp-D_F"
      },
      "outputs": [],
      "source": [
        "clf = random_search.best_estimator_"
      ]
    },
    {
      "cell_type": "code",
      "execution_count": null,
      "metadata": {
        "id": "LiXEa_wL0c6z"
      },
      "outputs": [],
      "source": [
        "from pdpbox.pdp import pdp_isolate, pdp_plot\n",
        "\n",
        "pdp_isolated = pdp_isolate(\n",
        "  model=clf,\n",
        "  dataset = X_test,\n",
        "  model_features = X_test.columns,\n",
        "  feature='Death',\n",
        "  grid_type='percentile',\n",
        "  num_grid_points=10,\n",
        ")\n",
        "pdp_plot(pdp_isolated, feature_name='Death')"
      ]
    },
    {
      "cell_type": "code",
      "execution_count": null,
      "metadata": {
        "id": "6WAsrb1BcvUV"
      },
      "outputs": [],
      "source": [
        "pdp_plot(\n",
        "    pdp_isolated,\n",
        "    feature_name='Death',\n",
        "    plot_lines=True,  # ICE plots\n",
        "    frac_to_plot=50,  # float type을 입력하면 전체 데이터 갯수 중 plotting할 데이터 수의 비율이 됩니다. int type을 입력하면 데이터의 수가 됩니다.\n",
        "    plot_pts_dist=True,\n",
        ")\n",
        "plt.show()"
      ]
    },
    {
      "cell_type": "code",
      "execution_count": null,
      "metadata": {
        "id": "M1A_E24lc_bM"
      },
      "outputs": [],
      "source": [
        "from pdpbox.pdp import pdp_isolate, pdp_plot\n",
        "\n",
        "pdp_isolated = pdp_isolate(\n",
        "  model=clf,\n",
        "  dataset = X_test,\n",
        "  model_features = X_test.columns,\n",
        "  feature='Kills',\n",
        "  grid_type='percentile',\n",
        "  num_grid_points=10,\n",
        ")\n",
        "pdp_plot(pdp_isolated, feature_name='Kills')"
      ]
    },
    {
      "cell_type": "code",
      "execution_count": null,
      "metadata": {
        "id": "oUO-cMVgdCyy"
      },
      "outputs": [],
      "source": [
        "pdp_plot(\n",
        "    pdp_isolated,\n",
        "    feature_name='Kills',\n",
        "    plot_lines=True,  # ICE plots\n",
        "    frac_to_plot=50,  # float type을 입력하면 전체 데이터 갯수 중 plotting할 데이터 수의 비율이 됩니다. int type을 입력하면 데이터의 수가 됩니다.\n",
        "    plot_pts_dist=True,\n",
        ")\n",
        "plt.show()"
      ]
    }
  ],
  "metadata": {
    "colab": {
      "provenance": []
    },
    "kernelspec": {
      "display_name": "Python 3",
      "name": "python3"
    },
    "language_info": {
      "name": "python"
    }
  },
  "nbformat": 4,
  "nbformat_minor": 0
}